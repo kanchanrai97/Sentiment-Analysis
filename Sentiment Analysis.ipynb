{
  "cells": [
    {
      "cell_type": "markdown",
      "metadata": {
        "id": "30c1337b"
      },
      "source": [
        "#### 1. **Unidirectional RNN model using Glove**"
      ],
      "id": "30c1337b"
    },
    {
      "cell_type": "code",
      "execution_count": 163,
      "metadata": {
        "id": "cd037927",
        "colab": {
          "base_uri": "https://localhost:8080/"
        },
        "outputId": "5539c8e9-f759-4955-aa15-b76525b3fa79"
      },
      "outputs": [
        {
          "output_type": "stream",
          "name": "stderr",
          "text": [
            "[nltk_data] Downloading package wordnet to /root/nltk_data...\n",
            "[nltk_data]   Package wordnet is already up-to-date!\n"
          ]
        }
      ],
      "source": [
        "import pandas as pd\n",
        "import matplotlib.pyplot as plt\n",
        "import seaborn as sns\n",
        "import numpy as np\n",
        "import re\n",
        "import nltk\n",
        "nltk.download('wordnet')\n",
        "from nltk.tokenize import RegexpTokenizer\n",
        "from nltk.stem import WordNetLemmatizer\n",
        "from tensorflow.keras.losses import BinaryCrossentropy\n",
        "from tensorflow.keras.optimizers import Adam\n",
        "from sklearn.metrics import classification_report"
      ],
      "id": "cd037927"
    },
    {
      "cell_type": "code",
      "execution_count": 33,
      "metadata": {
        "id": "6b89c5a6-55ab-488f-acc0-11455490df0e",
        "colab": {
          "base_uri": "https://localhost:8080/",
          "height": 206
        },
        "outputId": "051cfd06-931c-4799-8dd7-e01b20324120"
      },
      "outputs": [
        {
          "output_type": "execute_result",
          "data": {
            "text/plain": [
              "                                                                                                                                                                           Tweet  \\\n",
              "0                                                                                                      Happy Anniversary The Day FreeDUMB Died In tune Don McLean's American Pie   \n",
              "1                                                                                                                                                 Freedom Convoy as InkBlot Test   \n",
              "2                                                    Well its pretty easy see what their agenda Pierre has remained silent issues never actually fought convoy just did photo op   \n",
              "3                                                                                                                                                             You Belong In Jail   \n",
              "4  Your head so far up Trudeaus ass can see what had lunch Trudeau does not debate will never answer unscripted question The fringe minoritywas millions who supported Freedom C   \n",
              "\n",
              "  Sentiment  \n",
              "0  Positive  \n",
              "1  Positive  \n",
              "2  Positive  \n",
              "3   Neutral  \n",
              "4  Positive  "
            ],
            "text/html": [
              "\n",
              "  <div id=\"df-bbc8f49a-2797-41fa-8930-8822adff80f1\" class=\"colab-df-container\">\n",
              "    <div>\n",
              "<style scoped>\n",
              "    .dataframe tbody tr th:only-of-type {\n",
              "        vertical-align: middle;\n",
              "    }\n",
              "\n",
              "    .dataframe tbody tr th {\n",
              "        vertical-align: top;\n",
              "    }\n",
              "\n",
              "    .dataframe thead th {\n",
              "        text-align: right;\n",
              "    }\n",
              "</style>\n",
              "<table border=\"1\" class=\"dataframe\">\n",
              "  <thead>\n",
              "    <tr style=\"text-align: right;\">\n",
              "      <th></th>\n",
              "      <th>Tweet</th>\n",
              "      <th>Sentiment</th>\n",
              "    </tr>\n",
              "  </thead>\n",
              "  <tbody>\n",
              "    <tr>\n",
              "      <th>0</th>\n",
              "      <td>Happy Anniversary The Day FreeDUMB Died In tune Don McLean's American Pie</td>\n",
              "      <td>Positive</td>\n",
              "    </tr>\n",
              "    <tr>\n",
              "      <th>1</th>\n",
              "      <td>Freedom Convoy as InkBlot Test</td>\n",
              "      <td>Positive</td>\n",
              "    </tr>\n",
              "    <tr>\n",
              "      <th>2</th>\n",
              "      <td>Well its pretty easy see what their agenda Pierre has remained silent issues never actually fought convoy just did photo op</td>\n",
              "      <td>Positive</td>\n",
              "    </tr>\n",
              "    <tr>\n",
              "      <th>3</th>\n",
              "      <td>You Belong In Jail</td>\n",
              "      <td>Neutral</td>\n",
              "    </tr>\n",
              "    <tr>\n",
              "      <th>4</th>\n",
              "      <td>Your head so far up Trudeaus ass can see what had lunch Trudeau does not debate will never answer unscripted question The fringe minoritywas millions who supported Freedom C</td>\n",
              "      <td>Positive</td>\n",
              "    </tr>\n",
              "  </tbody>\n",
              "</table>\n",
              "</div>\n",
              "    <div class=\"colab-df-buttons\">\n",
              "\n",
              "  <div class=\"colab-df-container\">\n",
              "    <button class=\"colab-df-convert\" onclick=\"convertToInteractive('df-bbc8f49a-2797-41fa-8930-8822adff80f1')\"\n",
              "            title=\"Convert this dataframe to an interactive table.\"\n",
              "            style=\"display:none;\">\n",
              "\n",
              "  <svg xmlns=\"http://www.w3.org/2000/svg\" height=\"24px\" viewBox=\"0 -960 960 960\">\n",
              "    <path d=\"M120-120v-720h720v720H120Zm60-500h600v-160H180v160Zm220 220h160v-160H400v160Zm0 220h160v-160H400v160ZM180-400h160v-160H180v160Zm440 0h160v-160H620v160ZM180-180h160v-160H180v160Zm440 0h160v-160H620v160Z\"/>\n",
              "  </svg>\n",
              "    </button>\n",
              "\n",
              "  <style>\n",
              "    .colab-df-container {\n",
              "      display:flex;\n",
              "      gap: 12px;\n",
              "    }\n",
              "\n",
              "    .colab-df-convert {\n",
              "      background-color: #E8F0FE;\n",
              "      border: none;\n",
              "      border-radius: 50%;\n",
              "      cursor: pointer;\n",
              "      display: none;\n",
              "      fill: #1967D2;\n",
              "      height: 32px;\n",
              "      padding: 0 0 0 0;\n",
              "      width: 32px;\n",
              "    }\n",
              "\n",
              "    .colab-df-convert:hover {\n",
              "      background-color: #E2EBFA;\n",
              "      box-shadow: 0px 1px 2px rgba(60, 64, 67, 0.3), 0px 1px 3px 1px rgba(60, 64, 67, 0.15);\n",
              "      fill: #174EA6;\n",
              "    }\n",
              "\n",
              "    .colab-df-buttons div {\n",
              "      margin-bottom: 4px;\n",
              "    }\n",
              "\n",
              "    [theme=dark] .colab-df-convert {\n",
              "      background-color: #3B4455;\n",
              "      fill: #D2E3FC;\n",
              "    }\n",
              "\n",
              "    [theme=dark] .colab-df-convert:hover {\n",
              "      background-color: #434B5C;\n",
              "      box-shadow: 0px 1px 3px 1px rgba(0, 0, 0, 0.15);\n",
              "      filter: drop-shadow(0px 1px 2px rgba(0, 0, 0, 0.3));\n",
              "      fill: #FFFFFF;\n",
              "    }\n",
              "  </style>\n",
              "\n",
              "    <script>\n",
              "      const buttonEl =\n",
              "        document.querySelector('#df-bbc8f49a-2797-41fa-8930-8822adff80f1 button.colab-df-convert');\n",
              "      buttonEl.style.display =\n",
              "        google.colab.kernel.accessAllowed ? 'block' : 'none';\n",
              "\n",
              "      async function convertToInteractive(key) {\n",
              "        const element = document.querySelector('#df-bbc8f49a-2797-41fa-8930-8822adff80f1');\n",
              "        const dataTable =\n",
              "          await google.colab.kernel.invokeFunction('convertToInteractive',\n",
              "                                                    [key], {});\n",
              "        if (!dataTable) return;\n",
              "\n",
              "        const docLinkHtml = 'Like what you see? Visit the ' +\n",
              "          '<a target=\"_blank\" href=https://colab.research.google.com/notebooks/data_table.ipynb>data table notebook</a>'\n",
              "          + ' to learn more about interactive tables.';\n",
              "        element.innerHTML = '';\n",
              "        dataTable['output_type'] = 'display_data';\n",
              "        await google.colab.output.renderOutput(dataTable, element);\n",
              "        const docLink = document.createElement('div');\n",
              "        docLink.innerHTML = docLinkHtml;\n",
              "        element.appendChild(docLink);\n",
              "      }\n",
              "    </script>\n",
              "  </div>\n",
              "\n",
              "\n",
              "<div id=\"df-7196e77d-5f29-4a1a-9b5f-e834d341a7b0\">\n",
              "  <button class=\"colab-df-quickchart\" onclick=\"quickchart('df-7196e77d-5f29-4a1a-9b5f-e834d341a7b0')\"\n",
              "            title=\"Suggest charts\"\n",
              "            style=\"display:none;\">\n",
              "\n",
              "<svg xmlns=\"http://www.w3.org/2000/svg\" height=\"24px\"viewBox=\"0 0 24 24\"\n",
              "     width=\"24px\">\n",
              "    <g>\n",
              "        <path d=\"M19 3H5c-1.1 0-2 .9-2 2v14c0 1.1.9 2 2 2h14c1.1 0 2-.9 2-2V5c0-1.1-.9-2-2-2zM9 17H7v-7h2v7zm4 0h-2V7h2v10zm4 0h-2v-4h2v4z\"/>\n",
              "    </g>\n",
              "</svg>\n",
              "  </button>\n",
              "\n",
              "<style>\n",
              "  .colab-df-quickchart {\n",
              "      --bg-color: #E8F0FE;\n",
              "      --fill-color: #1967D2;\n",
              "      --hover-bg-color: #E2EBFA;\n",
              "      --hover-fill-color: #174EA6;\n",
              "      --disabled-fill-color: #AAA;\n",
              "      --disabled-bg-color: #DDD;\n",
              "  }\n",
              "\n",
              "  [theme=dark] .colab-df-quickchart {\n",
              "      --bg-color: #3B4455;\n",
              "      --fill-color: #D2E3FC;\n",
              "      --hover-bg-color: #434B5C;\n",
              "      --hover-fill-color: #FFFFFF;\n",
              "      --disabled-bg-color: #3B4455;\n",
              "      --disabled-fill-color: #666;\n",
              "  }\n",
              "\n",
              "  .colab-df-quickchart {\n",
              "    background-color: var(--bg-color);\n",
              "    border: none;\n",
              "    border-radius: 50%;\n",
              "    cursor: pointer;\n",
              "    display: none;\n",
              "    fill: var(--fill-color);\n",
              "    height: 32px;\n",
              "    padding: 0;\n",
              "    width: 32px;\n",
              "  }\n",
              "\n",
              "  .colab-df-quickchart:hover {\n",
              "    background-color: var(--hover-bg-color);\n",
              "    box-shadow: 0 1px 2px rgba(60, 64, 67, 0.3), 0 1px 3px 1px rgba(60, 64, 67, 0.15);\n",
              "    fill: var(--button-hover-fill-color);\n",
              "  }\n",
              "\n",
              "  .colab-df-quickchart-complete:disabled,\n",
              "  .colab-df-quickchart-complete:disabled:hover {\n",
              "    background-color: var(--disabled-bg-color);\n",
              "    fill: var(--disabled-fill-color);\n",
              "    box-shadow: none;\n",
              "  }\n",
              "\n",
              "  .colab-df-spinner {\n",
              "    border: 2px solid var(--fill-color);\n",
              "    border-color: transparent;\n",
              "    border-bottom-color: var(--fill-color);\n",
              "    animation:\n",
              "      spin 1s steps(1) infinite;\n",
              "  }\n",
              "\n",
              "  @keyframes spin {\n",
              "    0% {\n",
              "      border-color: transparent;\n",
              "      border-bottom-color: var(--fill-color);\n",
              "      border-left-color: var(--fill-color);\n",
              "    }\n",
              "    20% {\n",
              "      border-color: transparent;\n",
              "      border-left-color: var(--fill-color);\n",
              "      border-top-color: var(--fill-color);\n",
              "    }\n",
              "    30% {\n",
              "      border-color: transparent;\n",
              "      border-left-color: var(--fill-color);\n",
              "      border-top-color: var(--fill-color);\n",
              "      border-right-color: var(--fill-color);\n",
              "    }\n",
              "    40% {\n",
              "      border-color: transparent;\n",
              "      border-right-color: var(--fill-color);\n",
              "      border-top-color: var(--fill-color);\n",
              "    }\n",
              "    60% {\n",
              "      border-color: transparent;\n",
              "      border-right-color: var(--fill-color);\n",
              "    }\n",
              "    80% {\n",
              "      border-color: transparent;\n",
              "      border-right-color: var(--fill-color);\n",
              "      border-bottom-color: var(--fill-color);\n",
              "    }\n",
              "    90% {\n",
              "      border-color: transparent;\n",
              "      border-bottom-color: var(--fill-color);\n",
              "    }\n",
              "  }\n",
              "</style>\n",
              "\n",
              "  <script>\n",
              "    async function quickchart(key) {\n",
              "      const quickchartButtonEl =\n",
              "        document.querySelector('#' + key + ' button');\n",
              "      quickchartButtonEl.disabled = true;  // To prevent multiple clicks.\n",
              "      quickchartButtonEl.classList.add('colab-df-spinner');\n",
              "      try {\n",
              "        const charts = await google.colab.kernel.invokeFunction(\n",
              "            'suggestCharts', [key], {});\n",
              "      } catch (error) {\n",
              "        console.error('Error during call to suggestCharts:', error);\n",
              "      }\n",
              "      quickchartButtonEl.classList.remove('colab-df-spinner');\n",
              "      quickchartButtonEl.classList.add('colab-df-quickchart-complete');\n",
              "    }\n",
              "    (() => {\n",
              "      let quickchartButtonEl =\n",
              "        document.querySelector('#df-7196e77d-5f29-4a1a-9b5f-e834d341a7b0 button');\n",
              "      quickchartButtonEl.style.display =\n",
              "        google.colab.kernel.accessAllowed ? 'block' : 'none';\n",
              "    })();\n",
              "  </script>\n",
              "</div>\n",
              "\n",
              "    </div>\n",
              "  </div>\n"
            ],
            "application/vnd.google.colaboratory.intrinsic+json": {
              "type": "dataframe",
              "variable_name": "df",
              "summary": "{\n  \"name\": \"df\",\n  \"rows\": 39079,\n  \"fields\": [\n    {\n      \"column\": \"Tweet\",\n      \"properties\": {\n        \"dtype\": \"string\",\n        \"num_unique_values\": 39007,\n        \"samples\": [\n          \"152 The H Word Brussels Kayne H word content moderation FTX fraud needs called out Freedom Convoy inquiry Trudeau's answer Hypothetical scenario Emergency Act game awesomeness Protests China\",\n          \"The Andrew Lawton Show Is Freedom Convoy making comeback\",\n          \"One year ago today around time leaving Arnprior enter city Ottawa municipality start end BS draconian lockdown mandates but also start true authoritarianism parliament one year later things getting worse\"\n        ],\n        \"semantic_type\": \"\",\n        \"description\": \"\"\n      }\n    },\n    {\n      \"column\": \"Sentiment\",\n      \"properties\": {\n        \"dtype\": \"category\",\n        \"num_unique_values\": 3,\n        \"samples\": [\n          \"Positive\",\n          \"Neutral\",\n          \"Negative\"\n        ],\n        \"semantic_type\": \"\",\n        \"description\": \"\"\n      }\n    }\n  ]\n}"
            }
          },
          "metadata": {},
          "execution_count": 33
        }
      ],
      "source": [
        "#loading cleaned data\n",
        "df = pd.read_csv('/content/cleaned_sentiment.csv', encoding='latin-1')\n",
        "df.head()"
      ],
      "id": "6b89c5a6-55ab-488f-acc0-11455490df0e"
    },
    {
      "cell_type": "code",
      "source": [
        "df = df[df['Sentiment'] != 'Neutral']"
      ],
      "metadata": {
        "id": "4VYx2EzzMrY8"
      },
      "id": "4VYx2EzzMrY8",
      "execution_count": 118,
      "outputs": []
    },
    {
      "cell_type": "code",
      "source": [
        "df['Tweet'] = df['Tweet'].str.replace(\"'\", '').str.replace('\"','') #removing atostrophe"
      ],
      "metadata": {
        "colab": {
          "base_uri": "https://localhost:8080/"
        },
        "id": "8_Byw5jV9Am6",
        "outputId": "dc5057c9-876c-4c6d-8262-39f9b9fa5028"
      },
      "id": "8_Byw5jV9Am6",
      "execution_count": 119,
      "outputs": [
        {
          "output_type": "stream",
          "name": "stderr",
          "text": [
            "<ipython-input-119-d5452c2edf7c>:1: SettingWithCopyWarning: \n",
            "A value is trying to be set on a copy of a slice from a DataFrame.\n",
            "Try using .loc[row_indexer,col_indexer] = value instead\n",
            "\n",
            "See the caveats in the documentation: https://pandas.pydata.org/pandas-docs/stable/user_guide/indexing.html#returning-a-view-versus-a-copy\n",
            "  df['Tweet'] = df['Tweet'].str.replace(\"'\", '').str.replace('\"','') #removing atostrophe\n"
          ]
        }
      ]
    },
    {
      "cell_type": "code",
      "execution_count": 121,
      "metadata": {
        "id": "256461bf-d52a-4d67-9e0f-3aa5bdf7bc8c",
        "colab": {
          "base_uri": "https://localhost:8080/"
        },
        "outputId": "84d0fe80-0bb5-4c29-f355-64fb24f8377e"
      },
      "outputs": [
        {
          "output_type": "execute_result",
          "data": {
            "text/plain": [
              "(33781, 3)"
            ]
          },
          "metadata": {},
          "execution_count": 121
        }
      ],
      "source": [
        "df.shape"
      ],
      "id": "256461bf-d52a-4d67-9e0f-3aa5bdf7bc8c"
    },
    {
      "cell_type": "code",
      "source": [
        "sns.histplot(df[\"Sentiment\"])"
      ],
      "metadata": {
        "colab": {
          "base_uri": "https://localhost:8080/",
          "height": 467
        },
        "id": "ozaSgX6swXiC",
        "outputId": "9866054f-b480-4d82-8a91-3bef1ee6ae59"
      },
      "id": "ozaSgX6swXiC",
      "execution_count": 122,
      "outputs": [
        {
          "output_type": "execute_result",
          "data": {
            "text/plain": [
              "<Axes: xlabel='Sentiment', ylabel='Count'>"
            ]
          },
          "metadata": {},
          "execution_count": 122
        },
        {
          "output_type": "display_data",
          "data": {
            "text/plain": [
              "<Figure size 640x480 with 1 Axes>"
            ],
            "image/png": "[encoded data removed]"
          },
          "metadata": {}
        }
      ]
    },
    {
      "cell_type": "code",
      "source": [
        "#mapping\n",
        "sentiment_mapping = {'Positive': 1, 'Negative': 0}\n",
        "df['mapped_sentiment'] = df['Sentiment'].map(sentiment_mapping)\n",
        "sentiment_counts=df['mapped_sentiment'].value_counts()\n",
        "print(sentiment_counts)"
      ],
      "metadata": {
        "id": "ovSTq8QUv0Rv",
        "colab": {
          "base_uri": "https://localhost:8080/"
        },
        "outputId": "9d328f47-9554-4153-ee61-5f4bb1ea2d15"
      },
      "id": "ovSTq8QUv0Rv",
      "execution_count": 123,
      "outputs": [
        {
          "output_type": "stream",
          "name": "stdout",
          "text": [
            "1.0    26570\n",
            "0.0     7210\n",
            "Name: mapped_sentiment, dtype: int64\n"
          ]
        },
        {
          "output_type": "stream",
          "name": "stderr",
          "text": [
            "<ipython-input-123-895db3b120df>:3: SettingWithCopyWarning: \n",
            "A value is trying to be set on a copy of a slice from a DataFrame.\n",
            "Try using .loc[row_indexer,col_indexer] = value instead\n",
            "\n",
            "See the caveats in the documentation: https://pandas.pydata.org/pandas-docs/stable/user_guide/indexing.html#returning-a-view-versus-a-copy\n",
            "  df['mapped_sentiment'] = df['Sentiment'].map(sentiment_mapping)\n"
          ]
        }
      ]
    },
    {
      "cell_type": "code",
      "source": [
        "#Newdataframe\n",
        "df"
      ],
      "metadata": {
        "id": "8Nu0ogiPxXjT"
      },
      "id": "8Nu0ogiPxXjT",
      "execution_count": null,
      "outputs": []
    },
    {
      "cell_type": "markdown",
      "source": [
        "#### Glove for Vectorization"
      ],
      "metadata": {
        "id": "lUS_eq8t0ppp"
      },
      "id": "lUS_eq8t0ppp"
    },
    {
      "cell_type": "code",
      "execution_count": null,
      "metadata": {
        "id": "GWejV6RmsmXz"
      },
      "outputs": [],
      "source": [
        "words = dict()\n",
        "\n",
        "def add_to_dict(d, filename):\n",
        "  with open(filename, 'r') as f:\n",
        "    for line in f.readlines():\n",
        "      line = line.split(' ')\n",
        "\n",
        "      try:\n",
        "        d[line[0]] = np.array(line[1:], dtype=float)\n",
        "      except:\n",
        "        continue\n",
        "\n",
        "add_to_dict(words, '/content/glove.6B.50d.txt')  #Glove pre-trained corpus model to represent the tweets\n",
        "words"
      ],
      "id": "GWejV6RmsmXz"
    },
    {
      "cell_type": "code",
      "execution_count": 126,
      "metadata": {
        "id": "fDPuZzcvOCFG"
      },
      "outputs": [],
      "source": [
        "tokenizer = nltk.RegexpTokenizer(r\"\\w+\")"
      ],
      "id": "fDPuZzcvOCFG"
    },
    {
      "cell_type": "code",
      "source": [
        "lemmatizer = WordNetLemmatizer()\n",
        "\n",
        "def message_to_token_list(s):\n",
        "  tokens = tokenizer.tokenize(s)\n",
        "  lowercased_tokens = [t.lower() for t in tokens]\n",
        "  lemmatized_tokens = [lemmatizer.lemmatize(t) for t in lowercased_tokens]\n",
        "  return lemmatized_tokens\n",
        "message_to_token_list('Happy Anniversary The Day FreeDUMB Died In tune Don McLeans American Pie')"
      ],
      "metadata": {
        "id": "_rGU6SyPCYsE",
        "colab": {
          "base_uri": "https://localhost:8080/"
        },
        "outputId": "942ead18-7f47-47d3-fb81-886c860ff1b6"
      },
      "id": "_rGU6SyPCYsE",
      "execution_count": 127,
      "outputs": [
        {
          "output_type": "execute_result",
          "data": {
            "text/plain": [
              "['happy',\n",
              " 'anniversary',\n",
              " 'the',\n",
              " 'day',\n",
              " 'freedumb',\n",
              " 'died',\n",
              " 'in',\n",
              " 'tune',\n",
              " 'don',\n",
              " 'mcleans',\n",
              " 'american',\n",
              " 'pie']"
            ]
          },
          "metadata": {},
          "execution_count": 127
        }
      ]
    },
    {
      "cell_type": "code",
      "source": [
        "def message_to_word_vectors(message, word_dict=words):\n",
        "  processed_list_of_tokens = message_to_token_list(message)\n",
        "\n",
        "  vectors = []\n",
        "\n",
        "  for token in processed_list_of_tokens:\n",
        "    if token not in word_dict:\n",
        "      continue\n",
        "\n",
        "    token_vector = word_dict[token]\n",
        "    vectors.append(token_vector)\n",
        "\n",
        "  return np.array(vectors, dtype=float)"
      ],
      "metadata": {
        "id": "Yyb--b3NCnia"
      },
      "id": "Yyb--b3NCnia",
      "execution_count": 128,
      "outputs": []
    },
    {
      "cell_type": "code",
      "source": [
        "message_to_word_vectors('Happy Anniversary The Day FreeDUMB Died In tune Don McLeans American Pie').shape"
      ],
      "metadata": {
        "colab": {
          "base_uri": "https://localhost:8080/"
        },
        "id": "8uRg0GZ2CWMF",
        "outputId": "89537b2b-2e5b-4d01-cc2c-1bdd15030b82"
      },
      "id": "8uRg0GZ2CWMF",
      "execution_count": 129,
      "outputs": [
        {
          "output_type": "execute_result",
          "data": {
            "text/plain": [
              "(11, 50)"
            ]
          },
          "metadata": {},
          "execution_count": 129
        }
      ]
    },
    {
      "cell_type": "code",
      "execution_count": 130,
      "metadata": {
        "colab": {
          "base_uri": "https://localhost:8080/"
        },
        "id": "c3801c72",
        "outputId": "92da2617-67b7-43bd-905b-c282c906e1bf"
      },
      "outputs": [
        {
          "output_type": "execute_result",
          "data": {
            "text/plain": [
              "(23646, 5067, 5068)"
            ]
          },
          "metadata": {},
          "execution_count": 130
        }
      ],
      "source": [
        "train_df = df.sample(frac=1, random_state=1)\n",
        "train_df.reset_index(drop=True, inplace=True)\n",
        "\n",
        "split_index_1 = int(len(train_df) * 0.7)\n",
        "split_index_2 = int(len(train_df) * 0.85)\n",
        "\n",
        "train_df, val_df, test_df = train_df[:split_index_1], train_df[split_index_1:split_index_2], train_df[split_index_2:]\n",
        "\n",
        "len(train_df), len(val_df), len(test_df)"
      ],
      "id": "c3801c72"
    },
    {
      "cell_type": "code",
      "source": [
        "def df_to_X_y(dff):\n",
        "  y = dff['mapped_sentiment'].to_numpy().astype(int)\n",
        "\n",
        "  all_word_vector_sequences = []\n",
        "\n",
        "  for message in dff['Tweet']:\n",
        "    message_as_vector_seq = message_to_word_vectors(str(message))\n",
        "\n",
        "    if message_as_vector_seq.shape[0] == 0:\n",
        "      message_as_vector_seq = np.zeros(shape=(1, 50))\n",
        "\n",
        "    all_word_vector_sequences.append(message_as_vector_seq)\n",
        "\n",
        "  return all_word_vector_sequences, y"
      ],
      "metadata": {
        "id": "E3Zj2dyFCvjO"
      },
      "id": "E3Zj2dyFCvjO",
      "execution_count": 131,
      "outputs": []
    },
    {
      "cell_type": "code",
      "source": [
        "X_train, y_train = df_to_X_y(train_df)\n",
        "\n",
        "print(len(X_train), len(X_train[8]))"
      ],
      "metadata": {
        "colab": {
          "base_uri": "https://localhost:8080/"
        },
        "id": "2P43QnDACzxA",
        "outputId": "07803f6b-faa9-43fb-f68c-e7cb2625afe6"
      },
      "id": "2P43QnDACzxA",
      "execution_count": 132,
      "outputs": [
        {
          "output_type": "stream",
          "name": "stderr",
          "text": [
            "<ipython-input-131-70e2dd51e7b7>:2: RuntimeWarning: invalid value encountered in cast\n",
            "  y = dff['mapped_sentiment'].to_numpy().astype(int)\n"
          ]
        },
        {
          "output_type": "stream",
          "name": "stdout",
          "text": [
            "23646 30\n"
          ]
        }
      ]
    },
    {
      "cell_type": "code",
      "source": [
        "print(y_train[12])"
      ],
      "metadata": {
        "colab": {
          "base_uri": "https://localhost:8080/"
        },
        "id": "TFdJ7WKbOGqJ",
        "outputId": "f4359df6-e84c-48a1-b5f0-cad904133a29"
      },
      "id": "TFdJ7WKbOGqJ",
      "execution_count": 157,
      "outputs": [
        {
          "output_type": "stream",
          "name": "stdout",
          "text": [
            "1\n"
          ]
        }
      ]
    },
    {
      "cell_type": "code",
      "source": [
        "sequence_lengths = []\n",
        "\n",
        "for i in range(len(X_train)):\n",
        "  sequence_lengths.append(len(X_train[i]))\n",
        "\n",
        "import matplotlib.pyplot as plt\n",
        "\n",
        "plt.hist(sequence_lengths)"
      ],
      "metadata": {
        "id": "m3m3t93OHOvj"
      },
      "id": "m3m3t93OHOvj",
      "execution_count": null,
      "outputs": []
    },
    {
      "cell_type": "code",
      "source": [
        "pd.Series(sequence_lengths).describe()"
      ],
      "metadata": {
        "colab": {
          "base_uri": "https://localhost:8080/"
        },
        "id": "Ypbf43fAHSNv",
        "outputId": "b7717e5d-7caf-4310-c7d4-e130793f004a"
      },
      "id": "Ypbf43fAHSNv",
      "execution_count": 134,
      "outputs": [
        {
          "output_type": "execute_result",
          "data": {
            "text/plain": [
              "count    23646.000000\n",
              "mean        19.570837\n",
              "std          9.005219\n",
              "min          1.000000\n",
              "25%         12.000000\n",
              "50%         20.000000\n",
              "75%         27.000000\n",
              "max         50.000000\n",
              "dtype: float64"
            ]
          },
          "metadata": {},
          "execution_count": 134
        }
      ]
    },
    {
      "cell_type": "code",
      "source": [
        "from copy import deepcopy\n",
        "\n",
        "def pad_X(X, desired_sequence_length=55):\n",
        "  X_copy = deepcopy(X)\n",
        "\n",
        "  for i, x in enumerate(X):\n",
        "    x_seq_len = x.shape[0]\n",
        "    sequence_length_difference = desired_sequence_length - x_seq_len\n",
        "\n",
        "    pad = np.zeros(shape=(sequence_length_difference, 50))\n",
        "\n",
        "    X_copy[i] = np.concatenate([x, pad])\n",
        "\n",
        "  return np.array(X_copy).astype(float)"
      ],
      "metadata": {
        "id": "tRGWLgHW6ewl"
      },
      "id": "tRGWLgHW6ewl",
      "execution_count": 135,
      "outputs": []
    },
    {
      "cell_type": "code",
      "source": [
        "X_train = pad_X(X_train)\n",
        "\n",
        "X_train.shape"
      ],
      "metadata": {
        "colab": {
          "base_uri": "https://localhost:8080/"
        },
        "id": "dbqrdpn06rg8",
        "outputId": "b429a464-0c46-489c-ba65-27a68cebbb48"
      },
      "id": "dbqrdpn06rg8",
      "execution_count": 136,
      "outputs": [
        {
          "output_type": "execute_result",
          "data": {
            "text/plain": [
              "(23646, 55, 50)"
            ]
          },
          "metadata": {},
          "execution_count": 136
        }
      ]
    },
    {
      "cell_type": "code",
      "source": [
        "X_val, y_val = df_to_X_y(val_df)\n",
        "X_val = pad_X(X_val)\n",
        "\n",
        "X_val.shape, y_val.shape"
      ],
      "metadata": {
        "id": "Omly4ef77JNF",
        "colab": {
          "base_uri": "https://localhost:8080/"
        },
        "outputId": "5899c1b1-0900-4ca8-a21a-7f0bd6daed62"
      },
      "id": "Omly4ef77JNF",
      "execution_count": 137,
      "outputs": [
        {
          "output_type": "execute_result",
          "data": {
            "text/plain": [
              "((5067, 55, 50), (5067,))"
            ]
          },
          "metadata": {},
          "execution_count": 137
        }
      ]
    },
    {
      "cell_type": "code",
      "source": [
        "X_test, y_test = df_to_X_y(test_df)\n",
        "X_test = pad_X(X_test)\n",
        "\n",
        "X_test.shape, y_test.shape"
      ],
      "metadata": {
        "id": "tj17coFm7KTa",
        "colab": {
          "base_uri": "https://localhost:8080/"
        },
        "outputId": "462ccfa2-15bc-4b37-a3e4-2613751e3cbd"
      },
      "id": "tj17coFm7KTa",
      "execution_count": 138,
      "outputs": [
        {
          "output_type": "execute_result",
          "data": {
            "text/plain": [
              "((5068, 55, 50), (5068,))"
            ]
          },
          "metadata": {},
          "execution_count": 138
        }
      ]
    },
    {
      "cell_type": "markdown",
      "metadata": {
        "id": "c41df61d"
      },
      "source": [
        "## Model Building"
      ],
      "id": "c41df61d"
    },
    {
      "cell_type": "code",
      "execution_count": 139,
      "metadata": {
        "id": "yK-jlgT728i1"
      },
      "outputs": [],
      "source": [
        "from tensorflow.keras import layers\n",
        "from tensorflow.keras.models import Sequential\n",
        "model = Sequential([])\n",
        "\n",
        "model.add(layers.Input(shape=(55, 50)))\n",
        "model.add(layers.SimpleRNN(128, return_sequences=True))\n",
        "model.add(layers.Dropout(0.2))\n",
        "model.add(layers.SimpleRNN(128, return_sequences=True))\n",
        "model.add(layers.Dropout(0.2))\n",
        "model.add(layers.SimpleRNN(128, return_sequences=True))\n",
        "model.add(layers.Dropout(0.2))\n",
        "model.add(layers.Flatten())\n",
        "model.add(layers.Dense(1, activation='sigmoid'))"
      ],
      "id": "yK-jlgT728i1"
    },
    {
      "cell_type": "code",
      "execution_count": null,
      "metadata": {
        "id": "eL57N_t33r6w"
      },
      "outputs": [],
      "source": [
        "model.summary()"
      ],
      "id": "eL57N_t33r6w"
    },
    {
      "cell_type": "code",
      "execution_count": 161,
      "metadata": {
        "id": "EBli_Ggd354e"
      },
      "outputs": [],
      "source": [
        "from tensorflow.keras.losses import BinaryCrossentropy\n",
        "from tensorflow.keras.optimizers import Adam\n",
        "model.compile(optimizer=Adam(learning_rate=0.0001), loss=BinaryCrossentropy(), metrics=['accuracy'])"
      ],
      "id": "EBli_Ggd354e"
    },
    {
      "cell_type": "code",
      "execution_count": 162,
      "metadata": {
        "id": "DO31vD2y5eMX",
        "colab": {
          "base_uri": "https://localhost:8080/"
        },
        "outputId": "e997d79e-f652-48ee-ec8a-9171f82949ba"
      },
      "outputs": [
        {
          "output_type": "stream",
          "name": "stdout",
          "text": [
            "Epoch 1/11\n",
            "739/739 [==============================] - 72s 92ms/step - loss: 741190156681216.0000 - accuracy: 0.7810\n",
            "Epoch 2/11\n",
            "739/739 [==============================] - 69s 93ms/step - loss: -463767078961152.0000 - accuracy: 0.7184\n",
            "Epoch 3/11\n",
            "739/739 [==============================] - 66s 89ms/step - loss: -1382950746718208.0000 - accuracy: 0.5614\n",
            "Epoch 4/11\n",
            "739/739 [==============================] - 66s 89ms/step - loss: -3934892807159808.0000 - accuracy: 0.4353\n",
            "Epoch 5/11\n",
            "739/739 [==============================] - 64s 87ms/step - loss: -3812708235345920.0000 - accuracy: 0.3993\n",
            "Epoch 6/11\n",
            "739/739 [==============================] - 67s 90ms/step - loss: -5448615912800256.0000 - accuracy: 0.2916\n",
            "Epoch 7/11\n",
            "739/739 [==============================] - 63s 86ms/step - loss: -9232877237567488.0000 - accuracy: 0.2631\n",
            "Epoch 8/11\n",
            "739/739 [==============================] - 66s 89ms/step - loss: -10610797235404800.0000 - accuracy: 0.2458\n",
            "Epoch 9/11\n",
            "739/739 [==============================] - 66s 89ms/step - loss: -12447751526678528.0000 - accuracy: 0.2388\n",
            "Epoch 10/11\n",
            "739/739 [==============================] - 64s 86ms/step - loss: -14975975435534336.0000 - accuracy: 0.2356\n",
            "Epoch 11/11\n",
            "739/739 [==============================] - 70s 95ms/step - loss: -18355633661149184.0000 - accuracy: 0.2281\n"
          ]
        },
        {
          "output_type": "execute_result",
          "data": {
            "text/plain": [
              "<keras.src.callbacks.History at 0x7909603d5bd0>"
            ]
          },
          "metadata": {},
          "execution_count": 162
        }
      ],
      "source": [
        "model.fit(X_train, y_train, epochs=11)"
      ],
      "id": "DO31vD2y5eMX"
    },
    {
      "cell_type": "code",
      "execution_count": 168,
      "metadata": {
        "id": "1ON-zHAa_Anm",
        "colab": {
          "base_uri": "https://localhost:8080/"
        },
        "outputId": "27f36949-2d1e-41fc-f2f9-839b9cb08361"
      },
      "outputs": [
        {
          "output_type": "stream",
          "name": "stdout",
          "text": [
            "159/159 [==============================] - 6s 38ms/step\n",
            "              precision    recall  f1-score   support\n",
            "\n",
            "           0       0.21      1.00      0.35      1060\n",
            "           1       1.00      0.00      0.00      4008\n",
            "\n",
            "    accuracy                           0.21      5068\n",
            "   macro avg       0.60      0.50      0.17      5068\n",
            "weighted avg       0.83      0.21      0.07      5068\n",
            "\n"
          ]
        }
      ],
      "source": [
        "test_predictions =model.predict(X_test).astype(int)\n",
        "from sklearn.metrics import classification_report\n",
        "print(classification_report(y_test, test_predictions))"
      ],
      "id": "1ON-zHAa_Anm"
    },
    {
      "cell_type": "code",
      "execution_count": null,
      "metadata": {
        "id": "Z4c8p8k0Ptf1"
      },
      "outputs": [],
      "source": [],
      "id": "Z4c8p8k0Ptf1"
    }
  ],
  "metadata": {
    "colab": {
      "provenance": [],
      "gpuType": "T4"
    },
    "kernelspec": {
      "display_name": "Python 3",
      "name": "python3"
    },
    "language_info": {
      "codemirror_mode": {
        "name": "ipython",
        "version": 3
      },
      "file_extension": ".py",
      "mimetype": "text/x-python",
      "name": "python",
      "nbconvert_exporter": "python",
      "pygments_lexer": "ipython3",
      "version": "3.9.13"
    }
  },
  "nbformat": 4,
  "nbformat_minor": 5
}